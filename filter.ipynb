{
 "cells": [
  {
   "cell_type": "code",
   "execution_count": 1,
   "id": "fd53ce5f",
   "metadata": {},
   "outputs": [],
   "source": [
    "import pandas as pd\n",
    "# df=pd.read_csv(\"data2/survey_results_public.csv\")\n",
    "# df\n"
   ]
  },
  {
   "cell_type": "code",
   "execution_count": 2,
   "id": "0a139fd3",
   "metadata": {},
   "outputs": [
    {
     "ename": "NameError",
     "evalue": "name 'df' is not defined",
     "output_type": "error",
     "traceback": [
      "\u001b[1;31m---------------------------------------------------------------------------\u001b[0m",
      "\u001b[1;31mNameError\u001b[0m                                 Traceback (most recent call last)",
      "\u001b[1;32m~\\AppData\\Local\\Temp/ipykernel_13148/268097363.py\u001b[0m in \u001b[0;36m<module>\u001b[1;34m\u001b[0m\n\u001b[1;32m----> 1\u001b[1;33m \u001b[0mdf\u001b[0m\u001b[1;33m.\u001b[0m\u001b[0mloc\u001b[0m\u001b[1;33m[\u001b[0m\u001b[1;36m2\u001b[0m\u001b[1;33m:\u001b[0m\u001b[1;36m10\u001b[0m\u001b[1;33m,\u001b[0m\u001b[1;34m\"MainBranch\"\u001b[0m\u001b[1;33m]\u001b[0m\u001b[1;33m\u001b[0m\u001b[1;33m\u001b[0m\u001b[0m\n\u001b[0m",
      "\u001b[1;31mNameError\u001b[0m: name 'df' is not defined"
     ]
    }
   ],
   "source": [
    "df.loc[2:10,\"MainBranch\"]"
   ]
  },
  {
   "cell_type": "code",
   "execution_count": null,
   "id": "8f702cec",
   "metadata": {},
   "outputs": [],
   "source": [
    "filt=df[\"LanguageWorkedWith\"].str.contains(\"JavaScript\",na=False)\n",
    "df.loc[filt,[\"LanguageWorkedWith\",\"Country\"]].head(40)\n"
   ]
  },
  {
   "cell_type": "code",
   "execution_count": null,
   "id": "ff86e36d",
   "metadata": {},
   "outputs": [],
   "source": [
    "schema_df=pd.read_csv(\"data2/survey_results_schema.csv\")\n",
    "schema_df"
   ]
  },
  {
   "cell_type": "code",
   "execution_count": null,
   "id": "66aca4ca",
   "metadata": {},
   "outputs": [],
   "source": [
    "pd.set_option(\"display.max_columns\",85)\n",
    "pd.set_option(\"display.max_rows\",85)"
   ]
  },
  {
   "cell_type": "code",
   "execution_count": null,
   "id": "0685af62",
   "metadata": {},
   "outputs": [],
   "source": [
    "# high_salary=df[\"ConvertedComp\"]>70000\n",
    "# df.loc[high_salary,[\"Country\",\"LanguageWorkedWith\",\"ConvertedComp\"]]\n",
    "countries=[\"United States\",\"India\",\"United Kingdom\",\"Germany\",\"Canada\"]\n",
    "country=df[\"Country\"].isin(countries)\n",
    "df.loc[country,\"Country\"]"
   ]
  },
  {
   "cell_type": "code",
   "execution_count": null,
   "id": "8199d1b9",
   "metadata": {},
   "outputs": [],
   "source": [
    "countries=[\"Bangladesh\",\"India\",\"USA\",\"United Kingdom\"]\n",
    "country_filt=df[\"Country\"].isin(countries)\n",
    "df.loc[country_filt,\"Country\"]"
   ]
  },
  {
   "cell_type": "code",
   "execution_count": null,
   "id": "b110b910",
   "metadata": {},
   "outputs": [],
   "source": [
    "filt=df[\"LanguageWorkedWith\"].str.contains(\"Python\",na=False)\n",
    "df.loc[filt,\"LanguageWorkedWith\"]"
   ]
  },
  {
   "cell_type": "code",
   "execution_count": null,
   "id": "34eddfec",
   "metadata": {},
   "outputs": [],
   "source": [
    "pip install numpy"
   ]
  },
  {
   "cell_type": "code",
   "execution_count": null,
   "id": "f8c5575f",
   "metadata": {},
   "outputs": [],
   "source": [
    "import numpy as np\n",
    "df = pd.DataFrame({\n",
    "'name':['Jane','John','Ashley','Mike','Emily','Jack','Catlin'],\n",
    "'ctg':['A','A','C','B','B','C','B'],\n",
    "'val':np.random.random(7).round(2),\n",
    "'val2':np.random.randint(1,10, size=7)\n",
    "})\n",
    "df"
   ]
  },
  {
   "cell_type": "code",
   "execution_count": null,
   "id": "d84f470c",
   "metadata": {},
   "outputs": [],
   "source": [
    "filt=(df[\"val\"]>.5) \n",
    "df[filt]"
   ]
  },
  {
   "cell_type": "code",
   "execution_count": null,
   "id": "d6e6ba25",
   "metadata": {},
   "outputs": [],
   "source": [
    "name=[\"new\",\"new2\",\"new5\",\"John\"]\n",
    "filt=df[\"name\"].isin(name)\n",
    "df.loc[filt]"
   ]
  },
  {
   "cell_type": "code",
   "execution_count": null,
   "id": "33ad88c5",
   "metadata": {},
   "outputs": [],
   "source": [
    "filt=df[\"name\"].str.startswith(\"J\")\n",
    "df.loc[filt]"
   ]
  },
  {
   "cell_type": "code",
   "execution_count": null,
   "id": "2f1532be",
   "metadata": {},
   "outputs": [],
   "source": [
    "df.query('ctg == \"B\" and val > 0.5')"
   ]
  },
  {
   "cell_type": "code",
   "execution_count": null,
   "id": "ca5641e0",
   "metadata": {},
   "outputs": [],
   "source": [
    "df.nlargest(3,\"val\")\n"
   ]
  },
  {
   "cell_type": "code",
   "execution_count": null,
   "id": "a2245c81",
   "metadata": {},
   "outputs": [],
   "source": [
    "df.nsmallest(2,\"val2\")"
   ]
  },
  {
   "cell_type": "code",
   "execution_count": null,
   "id": "2fa2a298",
   "metadata": {},
   "outputs": [],
   "source": [
    "for item,value in zip([1,2,3],[\"a\",\"b\",\"c\"]):\n",
    "    print(item,value)"
   ]
  },
  {
   "cell_type": "code",
   "execution_count": null,
   "id": "5b2aac7a",
   "metadata": {},
   "outputs": [],
   "source": [
    "headers=['amount', 'duration', 'rate', 'down_payment']\n",
    "values=[883000.0, 16.0, 0.14, 10]"
   ]
  },
  {
   "cell_type": "code",
   "execution_count": null,
   "id": "76757100",
   "metadata": {},
   "outputs": [],
   "source": [
    "def create_item_dict(values,headers):\n",
    "    result={}\n",
    "    \n",
    "    for value,header in zip(values,headers):\n",
    "        result[header]=value\n",
    "    return result\n"
   ]
  },
  {
   "cell_type": "code",
   "execution_count": null,
   "id": "9de2b4cb",
   "metadata": {},
   "outputs": [],
   "source": [
    "create_item_dict(values,headers)"
   ]
  },
  {
   "cell_type": "code",
   "execution_count": 3,
   "id": "c6469367",
   "metadata": {},
   "outputs": [
    {
     "data": {
      "text/html": [
       "<div>\n",
       "<style scoped>\n",
       "    .dataframe tbody tr th:only-of-type {\n",
       "        vertical-align: middle;\n",
       "    }\n",
       "\n",
       "    .dataframe tbody tr th {\n",
       "        vertical-align: top;\n",
       "    }\n",
       "\n",
       "    .dataframe thead th {\n",
       "        text-align: right;\n",
       "    }\n",
       "</style>\n",
       "<table border=\"1\" class=\"dataframe\">\n",
       "  <thead>\n",
       "    <tr style=\"text-align: right;\">\n",
       "      <th></th>\n",
       "      <th>Return Flight</th>\n",
       "      <th>Hotel per day</th>\n",
       "      <th>Weekly car rental</th>\n",
       "    </tr>\n",
       "  </thead>\n",
       "  <tbody>\n",
       "    <tr>\n",
       "      <th>Paris</th>\n",
       "      <td>200.0</td>\n",
       "      <td>20.0</td>\n",
       "      <td>200.0</td>\n",
       "    </tr>\n",
       "    <tr>\n",
       "      <th>London</th>\n",
       "      <td>250.0</td>\n",
       "      <td>30.0</td>\n",
       "      <td>NaN</td>\n",
       "    </tr>\n",
       "    <tr>\n",
       "      <th>Dubai</th>\n",
       "      <td>370.0</td>\n",
       "      <td>15.0</td>\n",
       "      <td>80.0</td>\n",
       "    </tr>\n",
       "    <tr>\n",
       "      <th>Mumbai</th>\n",
       "      <td>NaN</td>\n",
       "      <td>NaN</td>\n",
       "      <td>70.0</td>\n",
       "    </tr>\n",
       "  </tbody>\n",
       "</table>\n",
       "</div>"
      ],
      "text/plain": [
       "        Return Flight  Hotel per day  Weekly car rental\n",
       "Paris           200.0           20.0              200.0\n",
       "London          250.0           30.0                NaN\n",
       "Dubai           370.0           15.0               80.0\n",
       "Mumbai            NaN            NaN               70.0"
      ]
     },
     "execution_count": 3,
     "metadata": {},
     "output_type": "execute_result"
    }
   ],
   "source": [
    "data={\n",
    "    \"Return Flight\":[200,250,370,None],\n",
    "    \"Hotel per day\":[20,30,15,None],\n",
    "    \"Weekly car rental\":[200,None,80,70]\n",
    "}\n",
    "df=pd.DataFrame(data,index=[\"Paris\",\"London\",\"Dubai\",\"Mumbai\"])\n",
    "df"
   ]
  },
  {
   "cell_type": "code",
   "execution_count": 12,
   "id": "462ce03d",
   "metadata": {},
   "outputs": [
    {
     "data": {
      "text/html": [
       "<div>\n",
       "<style scoped>\n",
       "    .dataframe tbody tr th:only-of-type {\n",
       "        vertical-align: middle;\n",
       "    }\n",
       "\n",
       "    .dataframe tbody tr th {\n",
       "        vertical-align: top;\n",
       "    }\n",
       "\n",
       "    .dataframe thead th {\n",
       "        text-align: right;\n",
       "    }\n",
       "</style>\n",
       "<table border=\"1\" class=\"dataframe\">\n",
       "  <thead>\n",
       "    <tr style=\"text-align: right;\">\n",
       "      <th></th>\n",
       "      <th>Return Flight</th>\n",
       "      <th>Hotel per day</th>\n",
       "      <th>Weekly car rental</th>\n",
       "    </tr>\n",
       "  </thead>\n",
       "  <tbody>\n",
       "    <tr>\n",
       "      <th>Paris</th>\n",
       "      <td>200.000000</td>\n",
       "      <td>20.000000</td>\n",
       "      <td>200.000000</td>\n",
       "    </tr>\n",
       "    <tr>\n",
       "      <th>London</th>\n",
       "      <td>250.000000</td>\n",
       "      <td>30.000000</td>\n",
       "      <td>116.666667</td>\n",
       "    </tr>\n",
       "    <tr>\n",
       "      <th>Dubai</th>\n",
       "      <td>370.000000</td>\n",
       "      <td>15.000000</td>\n",
       "      <td>80.000000</td>\n",
       "    </tr>\n",
       "    <tr>\n",
       "      <th>Mumbai</th>\n",
       "      <td>273.333333</td>\n",
       "      <td>21.666667</td>\n",
       "      <td>70.000000</td>\n",
       "    </tr>\n",
       "  </tbody>\n",
       "</table>\n",
       "</div>"
      ],
      "text/plain": [
       "        Return Flight  Hotel per day  Weekly car rental\n",
       "Paris      200.000000      20.000000         200.000000\n",
       "London     250.000000      30.000000         116.666667\n",
       "Dubai      370.000000      15.000000          80.000000\n",
       "Mumbai     273.333333      21.666667          70.000000"
      ]
     },
     "execution_count": 12,
     "metadata": {},
     "output_type": "execute_result"
    }
   ],
   "source": [
    "# df.mean()\n",
    "df.fillna(df.mean())"
   ]
  },
  {
   "cell_type": "code",
   "execution_count": null,
   "id": "cf114971",
   "metadata": {},
   "outputs": [],
   "source": [
    "# df.drop(\"total\",axis=1,inplace=True)"
   ]
  },
  {
   "cell_type": "code",
   "execution_count": null,
   "id": "daa33d32",
   "metadata": {},
   "outputs": [],
   "source": [
    "def total_sum(x):\n",
    "    result=0\n",
    "    for i in x:\n",
    "        result+=i\n",
    "    return result"
   ]
  },
  {
   "cell_type": "code",
   "execution_count": null,
   "id": "ae59d35f",
   "metadata": {},
   "outputs": [],
   "source": [
    "df[\"total\"]=df.sum(axis=1)\n",
    "df"
   ]
  }
 ],
 "metadata": {
  "kernelspec": {
   "display_name": "Python 3 (ipykernel)",
   "language": "python",
   "name": "python3"
  },
  "language_info": {
   "codemirror_mode": {
    "name": "ipython",
    "version": 3
   },
   "file_extension": ".py",
   "mimetype": "text/x-python",
   "name": "python",
   "nbconvert_exporter": "python",
   "pygments_lexer": "ipython3",
   "version": "3.9.7"
  }
 },
 "nbformat": 4,
 "nbformat_minor": 5
}

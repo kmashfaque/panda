{
 "cells": [
  {
   "cell_type": "code",
   "execution_count": 2,
   "id": "8ab48625",
   "metadata": {},
   "outputs": [
    {
     "name": "stdout",
     "output_type": "stream",
     "text": [
      "<class 'numpy.ndarray'>\n",
      "(3,)\n"
     ]
    }
   ],
   "source": [
    "import numpy as np\n",
    "a=np.array([1,2,3])\n",
    "print(type(a))\n",
    "print(a.shape)"
   ]
  },
  {
   "cell_type": "code",
   "execution_count": 5,
   "id": "ef6e5d51",
   "metadata": {},
   "outputs": [
    {
     "name": "stdout",
     "output_type": "stream",
     "text": [
      "[[5 5 5]\n",
      " [5 5 5]\n",
      " [5 5 5]]\n"
     ]
    }
   ],
   "source": [
    "a=np.zeros((2,2))\n",
    "b=np.ones((3,3))\n",
    "c=np.eye(3)\n",
    "d=np.full((3,3),5)\n",
    "print(d)\n",
    "# print(c)\n",
    "# print(b)\n",
    "# print(a)"
   ]
  },
  {
   "cell_type": "code",
   "execution_count": 12,
   "id": "3639b015",
   "metadata": {},
   "outputs": [
    {
     "name": "stdout",
     "output_type": "stream",
     "text": [
      "[[0.33273705 0.57100117 0.77809987]\n",
      " [0.16620919 0.91588229 0.37688668]]\n",
      "(2, 3)\n"
     ]
    }
   ],
   "source": [
    "e=np.random.rand(2,3)\n",
    "print(e)\n",
    "print(e.shape)"
   ]
  },
  {
   "cell_type": "code",
   "execution_count": 14,
   "id": "f44ca4d8",
   "metadata": {},
   "outputs": [
    {
     "name": "stdout",
     "output_type": "stream",
     "text": [
      "[[0.91866359 0.44100755 0.31277095]\n",
      " [0.51024126 0.82515949 0.46476851]]\n"
     ]
    }
   ],
   "source": [
    "f=np.random.random((2,3))\n",
    "print(f)"
   ]
  },
  {
   "cell_type": "code",
   "execution_count": 166,
   "id": "2cd7fdca",
   "metadata": {},
   "outputs": [
    {
     "data": {
      "text/plain": [
       "array([ 0.00503979, -1.43567429, -2.0286716 , ...,  0.22761383,\n",
       "       -0.84229077,  0.8791771 ])"
      ]
     },
     "execution_count": 166,
     "metadata": {},
     "output_type": "execute_result"
    }
   ],
   "source": [
    "np.random.randn(100000)"
   ]
  },
  {
   "cell_type": "code",
   "execution_count": 11,
   "id": "745e1279",
   "metadata": {},
   "outputs": [
    {
     "data": {
      "image/png": "[encoded data removed]",
      "text/plain": [
       "<Figure size 432x288 with 1 Axes>"
      ]
     },
     "metadata": {
      "needs_background": "light"
     },
     "output_type": "display_data"
    }
   ],
   "source": [
    "import matplotlib.pyplot as plt\n",
    "uniform=np.random.rand(100000)\n",
    "plt.hist(uniform,bins=20,range=(0,1),density=True)\n",
    "plt.title(\"rand: Uniform\")\n",
    "plt.show()"
   ]
  },
  {
   "cell_type": "code",
   "execution_count": 9,
   "id": "ce89c691",
   "metadata": {},
   "outputs": [
    {
     "data": {
      "image/png": "[encoded data removed]",
      "text/plain": [
       "<Figure size 432x288 with 1 Axes>"
      ]
     },
     "metadata": {
      "needs_background": "light"
     },
     "output_type": "display_data"
    }
   ],
   "source": [
    "normal=np.random.randn(10000)\n",
    "plt.hist(normal,bins=20,density=True)\n",
    "plt.title(\"rand: Normal\")\n",
    "plt.show()"
   ]
  },
  {
   "cell_type": "code",
   "execution_count": 190,
   "id": "beb3f8bf",
   "metadata": {},
   "outputs": [
    {
     "data": {
      "text/plain": [
       "array([[4, 4, 1],\n",
       "       [0, 1, 2],\n",
       "       [0, 0, 2]])"
      ]
     },
     "execution_count": 190,
     "metadata": {},
     "output_type": "execute_result"
    }
   ],
   "source": [
    "# Return random integers from low (inclusive) to high (exclusive).\n",
    "# np.random.randint(2,size=100)\n",
    "np.random.randint(5,size=(3,3))"
   ]
  },
  {
   "cell_type": "code",
   "execution_count": 13,
   "id": "44ee3a80",
   "metadata": {},
   "outputs": [
    {
     "data": {
      "text/plain": [
       "array([3, 2, 3])"
      ]
     },
     "execution_count": 13,
     "metadata": {},
     "output_type": "execute_result"
    }
   ],
   "source": [
    "np.random.randint(2,[3,10,10])\n",
    "np.random.randint([1,2,3],4)"
   ]
  },
  {
   "cell_type": "code",
   "execution_count": 331,
   "id": "2fc4c709",
   "metadata": {},
   "outputs": [
    {
     "name": "stdout",
     "output_type": "stream",
     "text": [
      "[[ 8  7  8  9]\n",
      " [ 7 13 15  8]]\n"
     ]
    }
   ],
   "source": [
    "g=np.random.randint([1, 3, 5, 7],  [[10],[20]])\n",
    "print(g)"
   ]
  },
  {
   "cell_type": "code",
   "execution_count": 14,
   "id": "d17f080c",
   "metadata": {},
   "outputs": [
    {
     "name": "stdout",
     "output_type": "stream",
     "text": [
      "8\n"
     ]
    }
   ],
   "source": [
    "x1=np.array([1,2,3,4,5,6])\n",
    "var=x1.reshape(1,3,1,1,1,1,1,2)\n",
    "print(var.ndim)\n",
    "# back=var.reshape(-1)\n",
    "# print(back)"
   ]
  },
  {
   "cell_type": "markdown",
   "id": "c61aa576",
   "metadata": {},
   "source": [
    "# Array Iterating"
   ]
  },
  {
   "cell_type": "code",
   "execution_count": 343,
   "id": "80a55e94",
   "metadata": {},
   "outputs": [
    {
     "name": "stdout",
     "output_type": "stream",
     "text": [
      "1\n",
      "2\n",
      "3\n",
      "4\n",
      "5\n",
      "6\n"
     ]
    }
   ],
   "source": [
    "var2=np.array([1,2,3,4,5,6])\n",
    "for i in var2:\n",
    "    print(i)"
   ]
  },
  {
   "cell_type": "code",
   "execution_count": 345,
   "id": "b419eb6d",
   "metadata": {},
   "outputs": [
    {
     "name": "stdout",
     "output_type": "stream",
     "text": [
      "1\n",
      "2\n",
      "3\n",
      "4\n",
      "5\n",
      "6\n",
      "7\n",
      "8\n"
     ]
    }
   ],
   "source": [
    "var3=np.array([[1,2,3,4],[5,6,7,8]])\n",
    "for i in var3:\n",
    "    for j in i:\n",
    "        print(j)"
   ]
  },
  {
   "cell_type": "code",
   "execution_count": 347,
   "id": "be7b1d94",
   "metadata": {},
   "outputs": [
    {
     "name": "stdout",
     "output_type": "stream",
     "text": [
      "1\n",
      "2\n",
      "3\n",
      "4\n",
      "5\n",
      "6\n",
      "7\n",
      "8\n",
      "9\n",
      "10\n",
      "11\n",
      "12\n"
     ]
    }
   ],
   "source": [
    "var4=np.array([[[1,2,3,4],[5,6,7,8],[9,10,11,12]]])\n",
    "\n",
    "for i in var4:\n",
    "    for j in i:\n",
    "        for k in j:\n",
    "            print(k)\n",
    "            \n"
   ]
  },
  {
   "cell_type": "code",
   "execution_count": 349,
   "id": "394d5a6c",
   "metadata": {},
   "outputs": [
    {
     "name": "stdout",
     "output_type": "stream",
     "text": [
      "1\n",
      "2\n",
      "3\n",
      "4\n",
      "5\n",
      "6\n",
      "7\n",
      "8\n",
      "9\n",
      "10\n",
      "11\n",
      "12\n"
     ]
    }
   ],
   "source": [
    "var5=np.array([[[1,2,3,4],[5,6,7,8],[9,10,11,12]]])\n",
    "\n",
    "for i in np.nditer(var5):\n",
    "    print(i)"
   ]
  },
  {
   "cell_type": "code",
   "execution_count": 350,
   "id": "071a7cb1",
   "metadata": {},
   "outputs": [
    {
     "name": "stdout",
     "output_type": "stream",
     "text": [
      "((0, 0, 0), 1)\n",
      "((0, 0, 1), 2)\n",
      "((0, 0, 2), 3)\n",
      "((0, 0, 3), 4)\n",
      "((0, 1, 0), 5)\n",
      "((0, 1, 1), 6)\n",
      "((0, 1, 2), 7)\n",
      "((0, 1, 3), 8)\n",
      "((0, 2, 0), 9)\n",
      "((0, 2, 1), 10)\n",
      "((0, 2, 2), 11)\n",
      "((0, 2, 3), 12)\n"
     ]
    }
   ],
   "source": [
    "var5=np.array([[[1,2,3,4],[5,6,7,8],[9,10,11,12]]])\n",
    "\n",
    "for i in np.ndenumerate(var5):\n",
    "    print(i)"
   ]
  },
  {
   "cell_type": "code",
   "execution_count": 357,
   "id": "bea61944",
   "metadata": {},
   "outputs": [
    {
     "name": "stdout",
     "output_type": "stream",
     "text": [
      "[[[ 1  2]\n",
      "  [ 3  4]\n",
      "  [ 5  6]]\n",
      "\n",
      " [[ 7  8]\n",
      "  [ 9 10]\n",
      "  [11 12]]]\n",
      "3\n"
     ]
    }
   ],
   "source": [
    "var6=np.array([1,2,3,4,5,6,7,8,9,10,11,12])\n",
    "\n",
    "var7=var6.reshape(2,3,2)\n",
    "print(var7)\n",
    "print(var7.ndim)\n"
   ]
  },
  {
   "cell_type": "markdown",
   "id": "bfb267cc",
   "metadata": {},
   "source": [
    "\n",
    "# Array Joining"
   ]
  },
  {
   "cell_type": "code",
   "execution_count": 365,
   "id": "cde1c1e5",
   "metadata": {},
   "outputs": [
    {
     "name": "stdout",
     "output_type": "stream",
     "text": [
      "[[1 2]\n",
      " [3 4]]\n",
      "\n",
      "[[ 6  7]\n",
      " [ 9 10]]\n",
      "\n",
      "[[ 1  2  6  7]\n",
      " [ 3  4  9 10]]\n",
      "\n",
      "[[ 1  2]\n",
      " [ 3  4]\n",
      " [ 6  7]\n",
      " [ 9 10]]\n"
     ]
    }
   ],
   "source": [
    "arr1=np.array([[1,2],[3,4]])\n",
    "arr2=np.array([[6,7],[9,10]])\n",
    "print(arr1)\n",
    "print()\n",
    "print(arr2)\n",
    "print()\n",
    "res=np.concatenate((arr1,arr2),axis=1)\n",
    "res2=np.concatenate((arr1,arr2),axis=0)\n",
    "\n",
    "print(res)\n",
    "print()\n",
    "print(res2)"
   ]
  },
  {
   "cell_type": "code",
   "execution_count": 382,
   "id": "d0288724",
   "metadata": {},
   "outputs": [
    {
     "name": "stdout",
     "output_type": "stream",
     "text": [
      "[[[ 1  2]\n",
      "  [ 3  4]]\n",
      "\n",
      " [[ 6  7]\n",
      "  [ 9 10]]]\n",
      "stack\n",
      "[[ 1  2  6  7]\n",
      " [ 3  4  9 10]]\n",
      "hstack\n",
      "[[ 1  2]\n",
      " [ 3  4]\n",
      " [ 6  7]\n",
      " [ 9 10]]\n",
      "vstack\n",
      "[[[ 1  6]\n",
      "  [ 2  7]]\n",
      "\n",
      " [[ 3  9]\n",
      "  [ 4 10]]]\n",
      "dstack\n"
     ]
    }
   ],
   "source": [
    "arr3=np.array([[1,2],[3,4]])\n",
    "arr4=np.array([[6,7],[9,10]])\n",
    "\n",
    "arr=np.stack((arr3,arr4))\n",
    "# arr_2=np.stack((arr3,arr4),axis=1)\n",
    "arr_3=np.hstack((arr3,arr4))\n",
    "arr_4=np.vstack((arr3,arr4))\n",
    "arr_5=np.dstack((arr3,arr4))\n",
    "\n",
    "\n",
    "\n",
    "\n",
    "print(arr)\n",
    "print(\"stack\")\n",
    "\n",
    "print(arr_3)\n",
    "print(\"hstack\")\n",
    "print(arr_4)\n",
    "print(\"vstack\")\n",
    "\n",
    "print(arr_5)\n",
    "print(\"dstack\")\n"
   ]
  },
  {
   "cell_type": "markdown",
   "id": "d9a54fe5",
   "metadata": {},
   "source": [
    "# Shuffle, Unique, Resize, Flatten, Ravel"
   ]
  },
  {
   "cell_type": "code",
   "execution_count": 387,
   "id": "d5682f58",
   "metadata": {},
   "outputs": [
    {
     "name": "stdout",
     "output_type": "stream",
     "text": [
      "[ 6  7  8  2  9  4  5  3 10  1]\n"
     ]
    }
   ],
   "source": [
    "var=np.array([1,2,3,4,5,6,7,8,9,10])\n",
    "np.random.shuffle(var)\n",
    "print(var)"
   ]
  },
  {
   "cell_type": "code",
   "execution_count": 391,
   "id": "c61a2a51",
   "metadata": {
    "scrolled": true
   },
   "outputs": [
    {
     "name": "stdout",
     "output_type": "stream",
     "text": [
      "(array([ 1,  2,  3,  4,  5,  6,  7,  8,  9, 10]), array([9, 3, 7, 5, 6, 0, 1, 2, 4, 8], dtype=int64), array([1, 1, 1, 1, 1, 1, 1, 1, 1, 1], dtype=int64))\n"
     ]
    }
   ],
   "source": [
    "var1=np.array([1,2,3,3,5,6,2,2,4,2,6,6,5,4,2,4,5,6,7,8,9,10])\n",
    "\n",
    "x=np.unique(var,return_counts=True,return_index=True)\n",
    "print(x)\n"
   ]
  },
  {
   "cell_type": "code",
   "execution_count": 422,
   "id": "5d5532c2",
   "metadata": {},
   "outputs": [
    {
     "name": "stdout",
     "output_type": "stream",
     "text": [
      "[[ 1  2  3  4]\n",
      " [ 5  6  7  8]\n",
      " [ 9 10 11 12]]\n",
      "Flatten C:  [ 1  2  3  4  5  6  7  8  9 10 11 12]\n",
      "Flatten F:  [ 1  5  9  2  6 10  3  7 11  4  8 12]\n",
      "Flatten K:  [ 1  2  3  4  5  6  7  8  9 10 11 12]\n",
      "Ravel k:  [ 1  2  3  4  5  6  7  8  9 10 11 12]\n",
      "Ravel F:   [ 1  5  9  2  6 10  3  7 11  4  8 12]\n"
     ]
    }
   ],
   "source": [
    "var2=np.array([1,2,3,4,5,6,7,8,9,10,11,12])\n",
    "\n",
    "y=np.resize(var2,(3,4))\n",
    "print(y)\n",
    "\n",
    "print(\"Flatten C: \", y.flatten(order=\"C\"))\n",
    "print(\"Flatten F: \", y.flatten(order=\"F\"))\n",
    "print(\"Flatten K: \", y.flatten(order=\"K\"))\n",
    "print(\"Ravel k: \", np.ravel(y,order=\"K\"))\n",
    "print(\"Ravel F:  \", np.ravel(y,order=\"F\"))"
   ]
  },
  {
   "cell_type": "code",
   "execution_count": 38,
   "id": "54234015",
   "metadata": {},
   "outputs": [
    {
     "data": {
      "image/png": "[encoded data removed]",
      "text/plain": [
       "<Figure size 432x288 with 2 Axes>"
      ]
     },
     "metadata": {
      "needs_background": "light"
     },
     "output_type": "display_data"
    },
    {
     "data": {
      "image/png": "[encoded data removed]",
      "text/plain": [
       "<Figure size 432x288 with 2 Axes>"
      ]
     },
     "metadata": {
      "needs_background": "light"
     },
     "output_type": "display_data"
    }
   ],
   "source": [
    "x = np.array([0, 1, 2, 3])\n",
    "y = np.array([3, 8, 1, 10])\n",
    "\n",
    "fig,(ax1,ax2)=plt.subplots(1, 2)\n",
    "ax1.plot(x,y)\n",
    "\n",
    "#plot 2:\n",
    "x = np.array([0, 1, 2, 3])\n",
    "y = np.array([10, 20, 30, 40])\n",
    "\n",
    "fig,(ax1,ax2)=plt.subplots(1, 2)\n",
    "ax2.plot(x,y)\n",
    "\n",
    "plt.show()"
   ]
  }
 ],
 "metadata": {
  "kernelspec": {
   "display_name": "Python 3 (ipykernel)",
   "language": "python",
   "name": "python3"
  },
  "language_info": {
   "codemirror_mode": {
    "name": "ipython",
    "version": 3
   },
   "file_extension": ".py",
   "mimetype": "text/x-python",
   "name": "python",
   "nbconvert_exporter": "python",
   "pygments_lexer": "ipython3",
   "version": "3.9.7"
  }
 },
 "nbformat": 4,
 "nbformat_minor": 5
}
